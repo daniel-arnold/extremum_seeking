{
 "cells": [
  {
   "cell_type": "code",
   "execution_count": 1,
   "metadata": {},
   "outputs": [],
   "source": [
    "# ES control minimizing a quadratic function\n",
    "# Dan Arnold, daniel.brian.arnold@gmail.com\n",
    "\n",
    "import numpy as np\n",
    "import math\n",
    "import matplotlib.pyplot as plt\n",
    "#%matplotlib inline"
   ]
  },
  {
   "cell_type": "code",
   "execution_count": 2,
   "metadata": {},
   "outputs": [],
   "source": [
    "#ES function\n",
    "#this variation includes low pass filtering of the gradient estimate\n",
    "\n",
    "def es_function_lpf(t, T, hpf, lpf, f, c, a_param, Jk, Jkm1, sigmakm1, psikm1, gammakm1, uhatkm1):\n",
    "    \n",
    "    #outputs:\n",
    "    #uk: the control to be applied at the next timestep\n",
    "    #uhatk: the output of the integrator\n",
    "    #gammak: the output of the lowpass filter\n",
    "    #psik: signal after demodulation (mutliplication by cosine)\n",
    "    #sigmak: the output of the washout (highpass) filter\n",
    "    \n",
    "    #inputs:\n",
    "    #Jk, Jkm1: values of the objective function (metric we're optimizing) at the present and last timestep\n",
    "    #sigmakm1: output of highpass filter at last timestep\n",
    "    #psikm1: signal after demodulation at last timestep\n",
    "    #gammakm1: output of lowpass filter \n",
    "    #uhatkm1: output of integrator at last timestep\n",
    "    #t: present time at this timestep\n",
    "    #T: distance between timesteps, delta_T\n",
    "    #hpf: high pass filter gain, usually make this an order of magnitude lower than w\n",
    "    #lpf: low pass filter gain, usually make this equal to hpf, but I usually end up adjusting this quite a bit\n",
    "    #c: gain on the integrator - how much to value new measurements compared to old measurements\n",
    "    #ak: the amplitude of the probing signal\n",
    "\n",
    "    #calculate angular frequency:\n",
    "    w = 2*np.pi*f\n",
    "\n",
    "    #extract the effect of the probing signal in the objective function\n",
    "    #do this by passing the signal through a highpass filter\n",
    "    sigmak = (Jk - Jkm1 - (hpf*T/2-1)*sigmakm1)/(1+hpf*T/2)\n",
    "    #print(\"sigma: \", sigmak)\n",
    "\n",
    "    #the resulting signal is a sinusoid, multiply by a sinusoid of the same frequency\n",
    "    #this results in a cos**2 term, that has a DC component (we call this demodulation)\n",
    "    psik = sigmak*np.cos(w*t)\n",
    "    \n",
    "    #pass the demodulated signal through a lowpass filter, to eliminate noise and \"jumpiness\"\n",
    "    gammak = (T*lpf*(psik + psikm1) - (T*lpf - 2)*gammakm1)/(2 + T*lpf)\n",
    "\n",
    "    #pass the resulting signal through an integrator - this approximates a gradient descent\n",
    "    uhatk = uhatkm1 + c*T/2*(gammak + gammakm1)\n",
    "\n",
    "    #modulation - add the perturbation to the next control setpoint\n",
    "    uk = (uhatk + a_param*np.cos(w*t))\n",
    "\n",
    "    return (uk, sigmak, psik, gammak, uhatk)"
   ]
  },
  {
   "cell_type": "markdown",
   "metadata": {},
   "source": [
    "We can try to build some intuition as to why the method works.  Consider a quadratic objective function of the form:\n",
    "\n",
    "\\begin{align}\n",
    "    J(u) = u^{2}\n",
    "\\end{align}\n",
    "\n",
    "We seek to find the minimum of $J$ which is 0.  ES operates by approximating a gradient descent.  The gradient of this function is $2u$.  ES extracts this gradient by introducing a sinusoid into $u$, or\n",
    "\n",
    "\\begin{align}\n",
    "    u = \\hat{u} + a\\cos \\omega t\n",
    "\\end{align}\n",
    "\n",
    "Where $\\hat{u}$ is the quantity we want to drive to 0.  Note that $\\hat{u}$ and $u$ have the same value on average (as the integral of a sinusoid over a period of the sinusoid is 0).  Here's what happens when we plug $u$ into $J$: \n",
    "\n",
    "\\begin{align}\n",
    "    J(\\hat{u} + a\\cos \\omega t) = \\hat{u}^{2} + 2a\\hat{u} \\cos \\omega t + a^{2}\\cos^{2} \\omega t\n",
    "\\end{align}\n",
    "\n",
    "Now $J$ has a DC term and a sinusoidal term.  To extract the gradient, we can multiply by $\\cos \\omega t$:\n",
    "\n",
    "\\begin{align}\n",
    "    J(\\hat{u} + a\\cos \\omega t)\\cos \\omega t = \\hat{u}^{2}\\cos \\omega t + 2a\\hat{u} \\cos^{2} \\omega t + a^{2}\\cos^{3} \\omega t\n",
    "\\end{align}\n",
    "\n",
    "Recall now that $2\\cos^{2} \\omega t = 1 - \\cos 2\\omega t$.  So, even powers of sinusoids have DC components.  Let's expand:\n",
    "\n",
    "\\begin{align}\n",
    "    J(\\hat{u} + a\\cos \\omega t)\\cos \\omega t = \\hat{u}^{2}\\cos \\omega t + a\\hat{u} \\left( 1 + \\cos 2 \\omega t\\right) + \\frac{a^{2}}{2}\\left(1 - \\cos 2\\omega t\\right)\\cos \\omega t\n",
    "\\end{align}\n",
    "\n",
    "We can \"average\" the signal by integrating over a period of the sinusoid.  When we do this, the only term remaining is $\\hat{u}_{av}$.  We're off by a factor of 2, but we can account for this by choice of gains.  The subscript \"av\" indicates that this gradient is being averaged over a period of the sinusoid.  Now that we've got the gradient, the only thing we need to do is pass this quantity through an integrator to get a gradient descent.  The high and lowpass filters are put in the loop to reduce the effect of noise."
   ]
  },
  {
   "cell_type": "code",
   "execution_count": 5,
   "metadata": {},
   "outputs": [
    {
     "name": "stdout",
     "output_type": "stream",
     "text": [
      "program running\n",
      "program complete\n"
     ]
    },
    {
     "data": {
      "image/png": "[encoded data removed]",
      "text/plain": [
       "<Figure size 432x288 with 1 Axes>"
      ]
     },
     "metadata": {
      "needs_background": "light"
     },
     "output_type": "display_data"
    },
    {
     "data": {
      "image/png": "[encoded data removed]",
      "text/plain": [
       "<Figure size 432x288 with 1 Axes>"
      ]
     },
     "metadata": {
      "needs_background": "light"
     },
     "output_type": "display_data"
    }
   ],
   "source": [
    "#Simulation\n",
    "\n",
    "#Line search - the goal of this experiment is to minimize a quadratic function\n",
    "#the initial value of the controller, u, is the starting position\n",
    "#we want to drive this value to the minimum of the quadratic, or u=0\n",
    "\n",
    "#setup time\n",
    "T = 0.01 #delta T: the length of each timestep\n",
    "time = np.arange(0.,2000.)\n",
    "time = time*T\n",
    "\n",
    "#setup vectors to store past values of the ES control\n",
    "J = np.zeros(len(time)) #objective function\n",
    "sigma = np.zeros(len(time)) #value after highpass (washout) filter\n",
    "psi = np.zeros(len(time)) #value after demodulation\n",
    "gamma = np.zeros(len(time)) #value after lowpass filter\n",
    "uhat = np.zeros(len(time)) #value after integration\n",
    "u = np.zeros(len(time))  #control outputs of ES control (position)\n",
    "\n",
    "#initial conditions\n",
    "u[0] = 10 #choosing an initial condition - in this case its a position at these many units away from the origin\n",
    "u_target = 0\n",
    "J[0] = (u[0] - u_target)**2\n",
    "sigma[0] = u[0]\n",
    "psi[0] = u[0]\n",
    "gamma[0] = u[0]\n",
    "uhat[0] = u[0]\n",
    "\n",
    "#setup parameters for the ES controller\n",
    "f = 2 #frequency of probe, in Hz\n",
    "c = -1 #gain on the integrator\n",
    "lpf = 1 #lowpass filter critical frequency\n",
    "hpf = 1 #highpass filter critical frequency\n",
    "a = 0.25 #amplitude of the probe\n",
    "\n",
    "#J = np.append(J,1)\n",
    "print(\"program running\")\n",
    "\n",
    "for i in range(0,len(time)):\n",
    "    \n",
    "    #don't do anything the first timestep\n",
    "    \n",
    "    if(i>=1):\n",
    "\n",
    "        #evaluate objective function value\n",
    "        #minimize a quadratic, minimum value is 0\n",
    "        J[i] = (u[i-1] - u_target)**2 \n",
    "        \n",
    "        #call the ES controller - low pass filter\n",
    "        uk, sigmak, psik, gammak, uhatk = es_function_lpf(time[i], T, hpf, lpf, f, c, a, J[i], J[i-1], \\\n",
    "            sigma[i-1], psi[i-1], gamma[i-1], uhat[i-1])\n",
    "        \n",
    "        #store values for next timestep\n",
    "        u[i] = uk\n",
    "        sigma[i] = sigmak\n",
    "        psi[i] = psik\n",
    "        gamma[i] = gammak\n",
    "        uhat[i] = uhatk\n",
    "        #print(\"----------------------------\")\n",
    "\n",
    "print(\"program complete\")\n",
    "\n",
    "target = np.ones(len(u))*u_target;\n",
    "\n",
    "#this is the output of the ES controller\n",
    "fig1 = plt.figure(1)\n",
    "plt.plot(time,u,label=\"controller\")\n",
    "plt.plot(time,target,'--',label=\"target\")\n",
    "plt.title('position')\n",
    "plt.xlabel('time')\n",
    "plt.legend()\n",
    "fig1.savefig('ES_basic.png')\n",
    "\n",
    "plt.figure(2)\n",
    "plt.plot(time,J,'r')\n",
    "plt.title('objective function value')\n",
    "plt.xlabel('time')\n",
    "\n",
    "plt.show()\n"
   ]
  },
  {
   "cell_type": "code",
   "execution_count": null,
   "metadata": {},
   "outputs": [],
   "source": []
  }
 ],
 "metadata": {
  "kernelspec": {
   "display_name": "Python 3",
   "language": "python",
   "name": "python3"
  },
  "language_info": {
   "codemirror_mode": {
    "name": "ipython",
    "version": 3
   },
   "file_extension": ".py",
   "mimetype": "text/x-python",
   "name": "python",
   "nbconvert_exporter": "python",
   "pygments_lexer": "ipython3",
   "version": "3.7.4"
  }
 },
 "nbformat": 4,
 "nbformat_minor": 1
}
